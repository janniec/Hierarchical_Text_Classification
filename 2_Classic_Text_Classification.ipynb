{
 "cells": [
  {
   "cell_type": "markdown",
   "metadata": {},
   "source": [
    "# Imports"
   ]
  },
  {
   "cell_type": "code",
   "execution_count": 1,
   "metadata": {},
   "outputs": [
    {
     "name": "stdout",
     "output_type": "stream",
     "text": [
      "Python Version: 3.6.5 |Anaconda, Inc.| (default, Apr 29 2018, 16:14:56) \n",
      "[GCC 7.2.0] \n",
      "\n",
      "Numpy Version: 1.16.4\n",
      "Pandas Version: 0.23.0\n"
     ]
    }
   ],
   "source": [
    "import numpy as np\n",
    "import pandas as pd\n",
    "import sys\n",
    "libraries = (('Numpy', np), ('Pandas', pd))\n",
    "\n",
    "print(\"Python Version:\", sys.version, '\\n')\n",
    "for lib in libraries:\n",
    "    print('{0} Version: {1}'.format(lib[0], lib[1].__version__))"
   ]
  },
  {
   "cell_type": "code",
   "execution_count": 2,
   "metadata": {},
   "outputs": [],
   "source": [
    "import txtFiles as tf\n",
    "import ftCommands as ftc\n",
    "import evaluatePredictions as ep\n",
    "\n",
    "sys.path.append('../myModules/')\n",
    "import kleptoFunctions as kf"
   ]
  },
  {
   "cell_type": "markdown",
   "metadata": {},
   "source": [
    "# Data"
   ]
  },
  {
   "cell_type": "code",
   "execution_count": 3,
   "metadata": {},
   "outputs": [],
   "source": [
    "data_path = 'data/'"
   ]
  },
  {
   "cell_type": "code",
   "execution_count": 4,
   "metadata": {},
   "outputs": [
    {
     "name": "stdout",
     "output_type": "stream",
     "text": [
      "Filename: 2019.06.25_cleaned_newsgroups \n",
      "# of Folders: 5 \n",
      "Type: <class 'pandas.core.frame.DataFrame'> \n",
      "Len: 18752\n"
     ]
    }
   ],
   "source": [
    "data = kf.puking_file('2019.06.25_cleaned_newsgroups', data_path)"
   ]
  },
  {
   "cell_type": "markdown",
   "metadata": {},
   "source": [
    "# FastText Txt files"
   ]
  },
  {
   "cell_type": "markdown",
   "metadata": {},
   "source": [
    "## split ids"
   ]
  },
  {
   "cell_type": "code",
   "execution_count": 5,
   "metadata": {},
   "outputs": [],
   "source": [
    "random_state = 19"
   ]
  },
  {
   "cell_type": "code",
   "execution_count": 6,
   "metadata": {},
   "outputs": [
    {
     "name": "stdout",
     "output_type": "stream",
     "text": [
      "holdout\t 3751\n",
      "training\t 11250\n",
      "validation\t 3751\n"
     ]
    }
   ],
   "source": [
    "set_ids = tf.training_validation_holdout_split(data['_id'], random_state)"
   ]
  },
  {
   "cell_type": "markdown",
   "metadata": {},
   "source": [
    "## txt files"
   ]
  },
  {
   "cell_type": "code",
   "execution_count": 7,
   "metadata": {},
   "outputs": [
    {
     "name": "stdout",
     "output_type": "stream",
     "text": [
      "data/holdout_19.txt\n",
      "data/T1_training_19.txt\n",
      "data/T1_validation_19.txt\n"
     ]
    }
   ],
   "source": [
    "for name_part in set_ids.keys():\n",
    "    filepath = data_path+'%s.txt' % name_part\n",
    "    df = data[data['_id'].isin(set_ids[name_part])]\n",
    "    tf.make_txtfile(filepath, df, 'tier2_targets')\n",
    "    print(filepath)"
   ]
  },
  {
   "cell_type": "code",
   "execution_count": 8,
   "metadata": {},
   "outputs": [],
   "source": [
    "train_filename = [k for k in set_ids.keys() if 'training' in k][0]+'.txt'\n",
    "train_address = data_path+train_filename\n",
    "test_filename = [k for k in set_ids.keys() if 'validation' in k][0]+'.txt'\n",
    "test_address = data_path+test_filename\n",
    "holdout_filename = [k for k in set_ids.keys() if 'holdout' in k][0]+'.txt'\n",
    "holdout_address = data_path+holdout_filename"
   ]
  },
  {
   "cell_type": "markdown",
   "metadata": {},
   "source": [
    "# Training Model"
   ]
  },
  {
   "cell_type": "code",
   "execution_count": 9,
   "metadata": {},
   "outputs": [],
   "source": [
    "# FastText Parameters\n",
    "ngram = '2'\n",
    "lr = '0.5'\n",
    "dim = '200'\n",
    "ws = '5'\n",
    "epoch = '25'\n",
    "loss = 'ns'"
   ]
  },
  {
   "cell_type": "code",
   "execution_count": 10,
   "metadata": {},
   "outputs": [
    {
     "name": "stdout",
     "output_type": "stream",
     "text": [
      "N\t3751\n",
      "P@1\t0.838\n",
      "R@1\t0.838\n",
      "\n",
      "data/T1_model\n",
      "data/T1_prediction_19.txt\n"
     ]
    }
   ],
   "source": [
    "model_address, predict_address = ftc.train_test_predict(train_address, test_address, ngram, lr, dim, ws, epoch, loss)\n",
    "print(model_address)\n",
    "print(predict_address)"
   ]
  },
  {
   "cell_type": "markdown",
   "metadata": {},
   "source": [
    "# Using Model"
   ]
  },
  {
   "cell_type": "code",
   "execution_count": 11,
   "metadata": {},
   "outputs": [
    {
     "name": "stdout",
     "output_type": "stream",
     "text": [
      "N\t3751\n",
      "P@1\t0.848\n",
      "R@1\t0.848\n",
      "\n",
      "data/holdout_prediction_19.txt\n"
     ]
    }
   ],
   "source": [
    "predict_address = ftc.test_predict(holdout_address, model_address)\n",
    "print(predict_address)"
   ]
  },
  {
   "cell_type": "code",
   "execution_count": 12,
   "metadata": {},
   "outputs": [
    {
     "name": "stdout",
     "output_type": "stream",
     "text": [
      "precision: 0.8444944232670307\n",
      "recall: 0.8421878952390142\n",
      "fscore: 0.8417933346554742\n"
     ]
    }
   ],
   "source": [
    "# how did it do on our holdout set?\n",
    "precision, recall, fscore, support = ep.score_txtfiles(holdout_address, predict_address)"
   ]
  },
  {
   "cell_type": "code",
   "execution_count": null,
   "metadata": {},
   "outputs": [],
   "source": []
  }
 ],
 "metadata": {
  "kernelspec": {
   "display_name": "Python 3",
   "language": "python",
   "name": "python3"
  },
  "language_info": {
   "codemirror_mode": {
    "name": "ipython",
    "version": 3
   },
   "file_extension": ".py",
   "mimetype": "text/x-python",
   "name": "python",
   "nbconvert_exporter": "python",
   "pygments_lexer": "ipython3",
   "version": "3.6.5"
  },
  "toc": {
   "base_numbering": 1,
   "nav_menu": {},
   "number_sections": true,
   "sideBar": true,
   "skip_h1_title": false,
   "title_cell": "Table of Contents",
   "title_sidebar": "Contents",
   "toc_cell": false,
   "toc_position": {},
   "toc_section_display": true,
   "toc_window_display": false
  },
  "varInspector": {
   "cols": {
    "lenName": 16,
    "lenType": 16,
    "lenVar": 40
   },
   "kernels_config": {
    "python": {
     "delete_cmd_postfix": "",
     "delete_cmd_prefix": "del ",
     "library": "var_list.py",
     "varRefreshCmd": "print(var_dic_list())"
    },
    "r": {
     "delete_cmd_postfix": ") ",
     "delete_cmd_prefix": "rm(",
     "library": "var_list.r",
     "varRefreshCmd": "cat(var_dic_list()) "
    }
   },
   "types_to_exclude": [
    "module",
    "function",
    "builtin_function_or_method",
    "instance",
    "_Feature"
   ],
   "window_display": false
  }
 },
 "nbformat": 4,
 "nbformat_minor": 2
}
